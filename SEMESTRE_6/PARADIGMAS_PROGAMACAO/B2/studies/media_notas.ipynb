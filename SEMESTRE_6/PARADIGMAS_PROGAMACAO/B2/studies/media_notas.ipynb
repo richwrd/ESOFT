{
 "cells": [
  {
   "cell_type": "code",
   "execution_count": 4,
   "metadata": {},
   "outputs": [
    {
     "name": "stdout",
     "output_type": "stream",
     "text": [
      "/home/richard/Documentos/ESOFT/ESOFT6S-2023/PARADIGMAS_PROGAMACAO/python/data_read\n",
      "TOTAL: 40\n",
      "QTS: 4\n",
      "10.0\n"
     ]
    }
   ],
   "source": [
    "import sys\n",
    "import os\n",
    "\n",
    "print(os.getcwd())\n",
    "\n",
    "def calcula_media(notas):\n",
    "    total = 0\n",
    "\n",
    "    for i in notas:\n",
    "        total += notas[i]\n",
    "\n",
    "    media = total / len(notas)\n",
    "\n",
    "    print(f'TOTAL: {total}')\n",
    "    print(f'QTS: {len(notas)}')\n",
    "\n",
    "    return media\n",
    "\n",
    "\n",
    "notas_um = {\"nota1\": 10,\n",
    "            \"nota2\": 10,\n",
    "            \"nota3\": 10,\n",
    "            \"nota4\": 10}\n",
    "\n",
    "notas_dois = {\"nota1\": 50,\n",
    "            \"nota2\": 50,\n",
    "            \"nota3\": 50,\n",
    "            \"nota4\": 50}\n",
    "\n"
   ]
  }
 ],
 "metadata": {
  "kernelspec": {
   "display_name": "Python 3",
   "language": "python",
   "name": "python3"
  },
  "language_info": {
   "codemirror_mode": {
    "name": "ipython",
    "version": 3
   },
   "file_extension": ".py",
   "mimetype": "text/x-python",
   "name": "python",
   "nbconvert_exporter": "python",
   "pygments_lexer": "ipython3",
   "version": "3.11.4"
  }
 },
 "nbformat": 4,
 "nbformat_minor": 2
}
